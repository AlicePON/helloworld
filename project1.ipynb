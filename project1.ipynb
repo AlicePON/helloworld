{
 "cells": [
  {
   "cell_type": "markdown",
   "metadata": {},
   "source": [
    "* 任务（1）：将第二章任务1-3的程序过一遍；\n",
    "* 任务（2）完成P50实训1和2。"
   ]
  },
  {
   "cell_type": "code",
   "execution_count": 1,
   "metadata": {},
   "outputs": [],
   "source": [
    "import numpy as np"
   ]
  },
  {
   "cell_type": "code",
   "execution_count": null,
   "metadata": {},
   "outputs": [],
   "source": [
    "# 2.(1)创建一个数值范围为0-1，间隔为0.01的数组；\n",
    "\n",
    "arr1 = np.arange(0, 1, 0.01)\n",
    "print(arr1)\n",
    "# print(arr1.size)"
   ]
  },
  {
   "cell_type": "code",
   "execution_count": null,
   "metadata": {},
   "outputs": [],
   "source": [
    "# 2.(2)创建100个服从正态分布的随机数；\n",
    "\n",
    "arr2 = np.random.randn(1, 100)\n",
    "print(arr2)\n",
    "# print(arr2.size)"
   ]
  },
  {
   "cell_type": "code",
   "execution_count": null,
   "metadata": {
    "scrolled": false
   },
   "outputs": [],
   "source": [
    "# 2.(3)对创建的两个数组进行四则运算；\n",
    "\n",
    "# 为了方便观察，重新设置arr1与arr2的shape属性\n",
    "arr1.shape = 10,10\n",
    "arr2.shape = 10,10\n",
    "\n",
    "print('arr1 + arr2 =\\n', arr1 + arr2)\n",
    "print('arr1 - arr2 =\\n', arr1 - arr2)\n",
    "print('arr1 * arr2 =\\n', arr1 * arr2)\n",
    "print('arr1 / arr2 =\\n', arr1 / arr2)"
   ]
  },
  {
   "cell_type": "code",
   "execution_count": null,
   "metadata": {},
   "outputs": [],
   "source": [
    "# 2.(4)对创建的随机数组进行简单的统计分析\n",
    "\n",
    "# 排序\n",
    "# argsort()\n",
    "print(\"原始数据：\\n\", arr2)\n",
    "print(\"argsort()的结果为：\\n\", arr2.argsort())\n",
    "\n",
    "# lexsort()\n",
    "arr1.shape = 1, 100\n",
    "#print(arr1)\n",
    "print(\"lexsort()的结果为：\\n\", np.lexsort((arr1, arr2))) # sort by arr2"
   ]
  },
  {
   "cell_type": "code",
   "execution_count": null,
   "metadata": {
    "scrolled": true
   },
   "outputs": [],
   "source": [
    "# 去重\n",
    "# unique()\n",
    "print(arr2.size)\n",
    "print(np.unique(arr2).size)\n",
    "\n",
    "# 重复\n",
    "# tile()\n",
    "print(arr1)\n",
    "print(np.tile(arr1[0:2], 2))"
   ]
  },
  {
   "cell_type": "code",
   "execution_count": null,
   "metadata": {
    "scrolled": true
   },
   "outputs": [],
   "source": [
    "# 求和\n",
    "print(\"总和:\\n\", np.sum(arr1))\n",
    "#print(arr1)\n",
    "arr1.shape = 10,10\n",
    "print(\"横轴和:\\n\", np.sum(arr1, axis = (1)))\n",
    "print(\"纵轴和:\\n\", np.sum(arr1, axis = (0)))\n",
    "\n",
    "# 均值\n",
    "print(\"总均值:\\n\", np.mean(arr1))\n",
    "print(\"横轴均值:\\n\", np.mean(arr1, axis = (1)))\n",
    "print(\"纵轴均值:\\n\", np.mean(arr1, axis = (0)))"
   ]
  },
  {
   "cell_type": "code",
   "execution_count": null,
   "metadata": {},
   "outputs": [],
   "source": [
    "# 标准差\n",
    "print(\"标准差:\\n\", np.std(arr1))\n",
    "# 方差\n",
    "print(\"方差:\\n\", np.var(arr1))\n",
    "\n",
    "# 最小值\n",
    "print(np.min(arr1))\n",
    "print(np.argmin(arr1))\n",
    "\n",
    "# 最大值\n",
    "print(np.max(arr1))\n",
    "print(np.argmax(arr1))"
   ]
  },
  {
   "cell_type": "code",
   "execution_count": 5,
   "metadata": {},
   "outputs": [
    {
     "name": "stdout",
     "output_type": "stream",
     "text": [
      "国际棋盘对应的矩阵为：\n",
      " [[0. 1. 0. 1. 0. 1. 0. 1.]\n",
      " [1. 0. 1. 0. 1. 0. 1. 0.]\n",
      " [0. 1. 0. 1. 0. 1. 0. 1.]\n",
      " [1. 0. 1. 0. 1. 0. 1. 0.]\n",
      " [0. 1. 0. 1. 0. 1. 0. 1.]\n",
      " [1. 0. 1. 0. 1. 0. 1. 0.]\n",
      " [0. 1. 0. 1. 0. 1. 0. 1.]\n",
      " [1. 0. 1. 0. 1. 0. 1. 0.]]\n"
     ]
    }
   ],
   "source": [
    "# 3. 棋盘问题\n",
    "\n",
    "matr1 = np.ones((8,8))\n",
    "for i in range(8):\n",
    "    for j in range(8):\n",
    "        if(i+j)%2 == 0:\n",
    "            matr1[i,j] = 0\n",
    "print('国际棋盘对应的矩阵为：\\n', matr1)"
   ]
  }
 ],
 "metadata": {
  "kernelspec": {
   "display_name": "Python 3",
   "language": "python",
   "name": "python3"
  },
  "language_info": {
   "codemirror_mode": {
    "name": "ipython",
    "version": 3
   },
   "file_extension": ".py",
   "mimetype": "text/x-python",
   "name": "python",
   "nbconvert_exporter": "python",
   "pygments_lexer": "ipython3",
   "version": "3.7.4"
  }
 },
 "nbformat": 4,
 "nbformat_minor": 2
}
